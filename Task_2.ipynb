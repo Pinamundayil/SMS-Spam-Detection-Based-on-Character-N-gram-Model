{
 "cells": [
  {
   "cell_type": "code",
   "execution_count": 24,
   "id": "62d2fcc3",
   "metadata": {},
   "outputs": [],
   "source": [
    "import pandas as pd\n",
    "import numpy as np\n",
    "from sklearn import metrics\n",
    "import seaborn as sns\n",
    "import matplotlib.pyplot as plt\n",
    "import math"
   ]
  },
  {
   "cell_type": "code",
   "execution_count": 25,
   "id": "4409baae",
   "metadata": {},
   "outputs": [
    {
     "data": {
      "text/html": [
       "<div>\n",
       "<style scoped>\n",
       "    .dataframe tbody tr th:only-of-type {\n",
       "        vertical-align: middle;\n",
       "    }\n",
       "\n",
       "    .dataframe tbody tr th {\n",
       "        vertical-align: top;\n",
       "    }\n",
       "\n",
       "    .dataframe thead th {\n",
       "        text-align: right;\n",
       "    }\n",
       "</style>\n",
       "<table border=\"1\" class=\"dataframe\">\n",
       "  <thead>\n",
       "    <tr style=\"text-align: right;\">\n",
       "      <th></th>\n",
       "      <th>0</th>\n",
       "      <th>1</th>\n",
       "    </tr>\n",
       "  </thead>\n",
       "  <tbody>\n",
       "    <tr>\n",
       "      <th>0</th>\n",
       "      <td>ham</td>\n",
       "      <td>Go until jurong point, crazy.. Available only ...</td>\n",
       "    </tr>\n",
       "    <tr>\n",
       "      <th>1</th>\n",
       "      <td>ham</td>\n",
       "      <td>Ok lar... Joking wif u oni...</td>\n",
       "    </tr>\n",
       "    <tr>\n",
       "      <th>2</th>\n",
       "      <td>spam</td>\n",
       "      <td>Free entry in 2 a wkly comp to win FA Cup fina...</td>\n",
       "    </tr>\n",
       "    <tr>\n",
       "      <th>3</th>\n",
       "      <td>ham</td>\n",
       "      <td>U dun say so early hor... U c already then say...</td>\n",
       "    </tr>\n",
       "    <tr>\n",
       "      <th>4</th>\n",
       "      <td>ham</td>\n",
       "      <td>Nah I don't think he goes to usf, he lives aro...</td>\n",
       "    </tr>\n",
       "    <tr>\n",
       "      <th>...</th>\n",
       "      <td>...</td>\n",
       "      <td>...</td>\n",
       "    </tr>\n",
       "    <tr>\n",
       "      <th>5567</th>\n",
       "      <td>spam</td>\n",
       "      <td>This is the 2nd time we have tried 2 contact u...</td>\n",
       "    </tr>\n",
       "    <tr>\n",
       "      <th>5568</th>\n",
       "      <td>ham</td>\n",
       "      <td>Will ü b going to esplanade fr home?</td>\n",
       "    </tr>\n",
       "    <tr>\n",
       "      <th>5569</th>\n",
       "      <td>ham</td>\n",
       "      <td>Pity, * was in mood for that. So...any other s...</td>\n",
       "    </tr>\n",
       "    <tr>\n",
       "      <th>5570</th>\n",
       "      <td>ham</td>\n",
       "      <td>The guy did some bitching but I acted like i'd...</td>\n",
       "    </tr>\n",
       "    <tr>\n",
       "      <th>5571</th>\n",
       "      <td>ham</td>\n",
       "      <td>Rofl. Its true to its name</td>\n",
       "    </tr>\n",
       "  </tbody>\n",
       "</table>\n",
       "<p>5572 rows × 2 columns</p>\n",
       "</div>"
      ],
      "text/plain": [
       "         0                                                  1\n",
       "0      ham  Go until jurong point, crazy.. Available only ...\n",
       "1      ham                      Ok lar... Joking wif u oni...\n",
       "2     spam  Free entry in 2 a wkly comp to win FA Cup fina...\n",
       "3      ham  U dun say so early hor... U c already then say...\n",
       "4      ham  Nah I don't think he goes to usf, he lives aro...\n",
       "...    ...                                                ...\n",
       "5567  spam  This is the 2nd time we have tried 2 contact u...\n",
       "5568   ham               Will ü b going to esplanade fr home?\n",
       "5569   ham  Pity, * was in mood for that. So...any other s...\n",
       "5570   ham  The guy did some bitching but I acted like i'd...\n",
       "5571   ham                         Rofl. Its true to its name\n",
       "\n",
       "[5572 rows x 2 columns]"
      ]
     },
     "execution_count": 25,
     "metadata": {},
     "output_type": "execute_result"
    }
   ],
   "source": [
    "data = pd.read_csv(\"./SMSSpamCollection.csv\", sep='\\t', header=None)\n",
    "data\n"
   ]
  },
  {
   "cell_type": "code",
   "execution_count": 26,
   "id": "70fb3d09",
   "metadata": {},
   "outputs": [
    {
     "data": {
      "text/html": [
       "<div>\n",
       "<style scoped>\n",
       "    .dataframe tbody tr th:only-of-type {\n",
       "        vertical-align: middle;\n",
       "    }\n",
       "\n",
       "    .dataframe tbody tr th {\n",
       "        vertical-align: top;\n",
       "    }\n",
       "\n",
       "    .dataframe thead th {\n",
       "        text-align: right;\n",
       "    }\n",
       "</style>\n",
       "<table border=\"1\" class=\"dataframe\">\n",
       "  <thead>\n",
       "    <tr style=\"text-align: right;\">\n",
       "      <th></th>\n",
       "      <th>0</th>\n",
       "      <th>1</th>\n",
       "    </tr>\n",
       "  </thead>\n",
       "  <tbody>\n",
       "    <tr>\n",
       "      <th>count</th>\n",
       "      <td>5572</td>\n",
       "      <td>5572</td>\n",
       "    </tr>\n",
       "    <tr>\n",
       "      <th>unique</th>\n",
       "      <td>2</td>\n",
       "      <td>5169</td>\n",
       "    </tr>\n",
       "    <tr>\n",
       "      <th>top</th>\n",
       "      <td>ham</td>\n",
       "      <td>Sorry, I'll call later</td>\n",
       "    </tr>\n",
       "    <tr>\n",
       "      <th>freq</th>\n",
       "      <td>4825</td>\n",
       "      <td>30</td>\n",
       "    </tr>\n",
       "  </tbody>\n",
       "</table>\n",
       "</div>"
      ],
      "text/plain": [
       "           0                       1\n",
       "count   5572                    5572\n",
       "unique     2                    5169\n",
       "top      ham  Sorry, I'll call later\n",
       "freq    4825                      30"
      ]
     },
     "execution_count": 26,
     "metadata": {},
     "output_type": "execute_result"
    }
   ],
   "source": [
    "data.describe()"
   ]
  },
  {
   "cell_type": "code",
   "execution_count": 27,
   "id": "27fa62a8",
   "metadata": {},
   "outputs": [],
   "source": [
    "Vocabulary_character = ['a', 'b', 'c', 'd', 'e', 'f', 'g', 'h', 'i', 'j', 'k', 'l', 'm', 'n', 'o', 'p', 'q', 'r', 's', 't', 'u',\n",
    "                        'v', 'w', 'x', 'y', 'z', '0', '1', '2', '3', '4', '5', '6', '7', '8', '9', ' ', '/', '?', '!', '.', 'α', 'β', 'γ']"
   ]
  },
  {
   "cell_type": "code",
   "execution_count": 28,
   "id": "c0cab963",
   "metadata": {},
   "outputs": [],
   "source": [
    "def data_preprocessing(sms):\n",
    "    # convert to lowercase.\n",
    "    sms = sms.lower()\n",
    "    # replace all unknown character to 'γ'\n",
    "    sms = \"\".join([ c if c in Vocabulary_character else 'γ' for c in sms ])\n",
    "    # append start ('α') and end ('β') symbols\n",
    "    sms = 'α' + sms + 'β'\n",
    "    return sms\n"
   ]
  },
  {
   "cell_type": "code",
   "execution_count": 29,
   "id": "70017e57",
   "metadata": {},
   "outputs": [],
   "source": [
    "total_num_sms = len(data[0])"
   ]
  },
  {
   "cell_type": "code",
   "execution_count": 30,
   "id": "bb6717a7",
   "metadata": {},
   "outputs": [],
   "source": [
    "for i in range(total_num_sms):\n",
    "    data[1][i] = data_preprocessing(data[1][i])\n",
    "\n",
    "# determine min and max indices of train data.\n",
    "train_min_index = 0\n",
    "train_max_index = int((total_num_sms * 80) / 100)\n",
    "\n",
    "# determine min and max indices of test data.\n",
    "test_min_index = train_max_index + 1\n",
    "test_max_index = total_num_sms\n"
   ]
  },
  {
   "cell_type": "code",
   "execution_count": 31,
   "id": "f0b6e42e",
   "metadata": {},
   "outputs": [
    {
     "name": "stdout",
     "output_type": "stream",
     "text": [
      "αrofl. its true to its nameβ\n"
     ]
    }
   ],
   "source": [
    "print(data[1][i])"
   ]
  },
  {
   "cell_type": "code",
   "execution_count": 32,
   "id": "4600e603",
   "metadata": {},
   "outputs": [
    {
     "name": "stdout",
     "output_type": "stream",
     "text": [
      "Number of classes:  2\n"
     ]
    }
   ],
   "source": [
    "# determine number of classes.\n",
    "num_classes = len(np.unique(data[0]))\n",
    "print(\"Number of classes: \", num_classes)\n"
   ]
  },
  {
   "cell_type": "code",
   "execution_count": 33,
   "id": "e95cea03",
   "metadata": {},
   "outputs": [],
   "source": [
    "alphabet_count_spam = dict()\n",
    "alphabet_count_ham = dict()\n"
   ]
  },
  {
   "cell_type": "code",
   "execution_count": 34,
   "id": "f93ed6ca",
   "metadata": {},
   "outputs": [],
   "source": [
    "\n",
    "# count Vocabulary characters in ham and spam training dataset.\n",
    "def count_trainingset_alphabet_spam_ham():\n",
    "    # first set items in charecter vocabulary to 0.\n",
    "    for char in Vocabulary_character:\n",
    "        alphabet_count_spam[char] = 0\n",
    "        alphabet_count_ham[char] = 0\n",
    "\n",
    "    # count each item of charecter vocabulary in training data.\n",
    "    for i in range(train_min_index, train_max_index):\n",
    "        sms = data[1][i]\n",
    "        if data[0][i] == \"spam\":\n",
    "            for c in sms:\n",
    "                alphabet_count_spam[c] = alphabet_count_spam[c] + 1\n",
    "        else:\n",
    "            for c in sms:\n",
    "                alphabet_count_ham[c] = alphabet_count_ham[c] + 1\n",
    "\n",
    "\n"
   ]
  },
  {
   "cell_type": "code",
   "execution_count": 35,
   "id": "67ea4a4c",
   "metadata": {},
   "outputs": [],
   "source": [
    "count_trainingset_alphabet_spam_ham()\n",
    "\n"
   ]
  },
  {
   "cell_type": "code",
   "execution_count": 36,
   "id": "6f2a78ae",
   "metadata": {},
   "outputs": [],
   "source": [
    "\n",
    "bigram_count_spam = dict()\n",
    "bigram_count_ham = dict()\n"
   ]
  },
  {
   "cell_type": "code",
   "execution_count": 37,
   "id": "21cd5244",
   "metadata": {},
   "outputs": [],
   "source": [
    "# count character bigram in ham and spam training dataset.\n",
    "def count_trainingset_bigram_spam_ham():\n",
    "    # first set bigram count to 0.\n",
    "    for first_char in Vocabulary_character:\n",
    "        for second_char in Vocabulary_character:\n",
    "            bigram = first_char + second_char\n",
    "            bigram_count_spam[bigram] = 0\n",
    "            bigram_count_ham[bigram] = 0\n",
    "\n",
    "    # count each bigram in training data.\n",
    "    for i in range(train_min_index, train_max_index):\n",
    "        sms = data[1][i]\n",
    "        if data[0][i] == \"spam\":\n",
    "            for char in range(len(sms) - 1):\n",
    "                bigram = sms[char] + sms[char + 1]\n",
    "                bigram_count_spam[bigram] = bigram_count_spam[bigram] + 1\n",
    "        else:\n",
    "            for char in range(len(sms) - 1):\n",
    "                bigram = sms[char] + sms[char + 1]\n",
    "                bigram_count_ham[bigram] = bigram_count_ham[bigram] + 1\n"
   ]
  },
  {
   "cell_type": "code",
   "execution_count": 38,
   "id": "7fafa613",
   "metadata": {},
   "outputs": [],
   "source": [
    "count_trainingset_bigram_spam_ham()\n"
   ]
  },
  {
   "cell_type": "code",
   "execution_count": 39,
   "id": "48d34587",
   "metadata": {},
   "outputs": [],
   "source": [
    "# taking k as 0.5 for finding prediction.\n",
    "k = 0.5\n"
   ]
  },
  {
   "cell_type": "code",
   "execution_count": 40,
   "id": "0e53bec4",
   "metadata": {},
   "outputs": [],
   "source": [
    "prob_bigram_ham = dict()\n",
    "prob_bigram_spam = dict()\n"
   ]
  },
  {
   "cell_type": "code",
   "execution_count": 41,
   "id": "00d0d688",
   "metadata": {},
   "outputs": [],
   "source": [
    "#determine probabilities of bigrams in training dataset.\n",
    "def prob_bigram_spam_ham():\n",
    "    for bigram, count in bigram_count_spam.items():\n",
    "        bigram_first_char = bigram[0]\n",
    "        prob_bigram_spam[bigram] = (count + k) / (alphabet_count_spam[bigram_first_char] + (k * len(Vocabulary_character)))\n",
    "\n",
    "    for bigram, count in bigram_count_ham.items():\n",
    "        bigram_first_char = bigram[0]\n",
    "        prob_bigram_ham[bigram] = (count + k) / (alphabet_count_ham[bigram_first_char] + (k * len(Vocabulary_character)))\n"
   ]
  },
  {
   "cell_type": "code",
   "execution_count": 42,
   "id": "bd4953ae",
   "metadata": {},
   "outputs": [],
   "source": [
    "prob_bigram_spam_ham()"
   ]
  },
  {
   "cell_type": "code",
   "execution_count": 43,
   "id": "1059ef9c",
   "metadata": {},
   "outputs": [],
   "source": [
    "# determine log probability of a test SMS message.\n",
    "# used log to eliminate arithmatic undeflow.\n",
    "def log_probability(x, spam_ham):\n",
    "    log_prob = 0\n",
    "    if spam_ham == \"spam\":\n",
    "        for char in range(len(x) - 1):\n",
    "            bigram = x[char] + x[char + 1]\n",
    "            log_prob = log_prob + math.log(prob_bigram_spam[bigram])\n",
    "    else:\n",
    "        for char in range(len(x) - 1):\n",
    "            bigram = x[char] + x[char + 1]\n",
    "            log_prob = log_prob + math.log(prob_bigram_ham[bigram])\n",
    "\n",
    "    return log_prob\n"
   ]
  },
  {
   "cell_type": "code",
   "execution_count": 44,
   "id": "7017e0e4",
   "metadata": {},
   "outputs": [],
   "source": [
    "# predict the test SMS message for ham or spam.\n",
    "def predict(x):\n",
    "    spam_predict = log_probability(x, \"spam\")\n",
    "    ham_predict = log_probability(x, \"ham\")\n",
    "\n",
    "    if spam_predict >= ham_predict:\n",
    "        return \"spam\"\n",
    "    else:\n",
    "        return \"ham\"\n"
   ]
  },
  {
   "cell_type": "code",
   "execution_count": 45,
   "id": "3446d7a0",
   "metadata": {},
   "outputs": [
    {
     "name": "stdout",
     "output_type": "stream",
     "text": [
      "1114\n",
      "predicted classes of test SMS messages\n",
      "['ham' 'ham' 'spam' ... 'ham' 'ham' 'ham']\n"
     ]
    },
    {
     "data": {
      "text/plain": [
       "'ham'"
      ]
     },
     "execution_count": 45,
     "metadata": {},
     "output_type": "execute_result"
    }
   ],
   "source": [
    "# predict test SMS message in each row in the test dataset.\n",
    "test_data_count = test_max_index - test_min_index\n",
    "predicted_classes = np.empty((test_data_count), dtype=\"<U10\")\n",
    "for n in range(test_min_index, test_max_index):\n",
    "    index = n - test_min_index\n",
    "    predicted_classes[index] = predict(data[1][n])\n",
    "\n",
    "print(test_data_count)    \n",
    "print(\"predicted classes of test SMS messages\")\n",
    "print(predicted_classes)\n",
    "predicted_classes[1]"
   ]
  },
  {
   "cell_type": "code",
   "execution_count": 46,
   "id": "63879c04",
   "metadata": {},
   "outputs": [
    {
     "name": "stdout",
     "output_type": "stream",
     "text": [
      "actual classes of test SMS messages\n",
      "['ham' 'ham' 'spam' ... 'ham' 'ham' 'ham']\n"
     ]
    },
    {
     "data": {
      "text/plain": [
       "'ham'"
      ]
     },
     "execution_count": 46,
     "metadata": {},
     "output_type": "execute_result"
    }
   ],
   "source": [
    "actual_classes = np.array(data[0])[test_min_index:test_max_index]\n",
    "print(\"actual classes of test SMS messages\")\n",
    "print(actual_classes)\n",
    "actual_classes[0]"
   ]
  },
  {
   "cell_type": "code",
   "execution_count": 47,
   "id": "7f4c8d82",
   "metadata": {},
   "outputs": [],
   "source": [
    "# determine the confusion matrix.\n",
    "def confusion_matrix(predicted_classes, actual_classes):\n",
    "    cm = np.zeros((num_classes, num_classes), dtype=np.int32)\n",
    "\n",
    "    for i in range(len(predicted_classes)):\n",
    "        if predicted_classes[i] == \"spam\":\n",
    "            predicted_class = 0\n",
    "        else:\n",
    "            predicted_class = 1\n",
    "\n",
    "        if actual_classes[i] == \"spam\":\n",
    "            actual_class = 0\n",
    "        else:\n",
    "            actual_class = 1\n",
    "\n",
    "        cm[predicted_class][actual_class] = cm[predicted_class][actual_class] + 1\n",
    "\n",
    "    return cm"
   ]
  },
  {
   "cell_type": "code",
   "execution_count": 48,
   "id": "a9930668",
   "metadata": {},
   "outputs": [
    {
     "name": "stdout",
     "output_type": "stream",
     "text": [
      "<function confusion_matrix at 0x7fa27bf4c040>\n"
     ]
    },
    {
     "data": {
      "image/png": "[encoded data removed]",
      "text/plain": [
       "<Figure size 1000x400 with 2 Axes>"
      ]
     },
     "metadata": {},
     "output_type": "display_data"
    }
   ],
   "source": [
    "#making confusion matrix using seaborn library\n",
    "plt.figure(figsize=(10,4))\n",
    "Confusion_matrix = confusion_matrix(predicted_classes, actual_classes)\n",
    "ax = sns.heatmap(Confusion_matrix, annot=True, fmt = \"d\")\n",
    "plt.ylabel('Actual label')\n",
    "plt.xlabel('Predicted label') \n",
    "print(confusion_matrix)"
   ]
  },
  {
   "cell_type": "code",
   "execution_count": 49,
   "id": "66677e02",
   "metadata": {},
   "outputs": [],
   "source": [
    "True_positive = 942\n",
    "True_negative = 139\n",
    "False_positive = 27\n",
    "False_negative = 6"
   ]
  },
  {
   "cell_type": "code",
   "execution_count": 50,
   "id": "f08dc310",
   "metadata": {},
   "outputs": [
    {
     "data": {
      "text/plain": [
       "0.9936708860759493"
      ]
     },
     "execution_count": 50,
     "metadata": {},
     "output_type": "execute_result"
    }
   ],
   "source": [
    "recall = True_positive/(True_positive + False_negative)\n",
    "recall"
   ]
  },
  {
   "cell_type": "code",
   "execution_count": 51,
   "id": "be51c3ca",
   "metadata": {},
   "outputs": [
    {
     "data": {
      "text/plain": [
       "0.9721362229102167"
      ]
     },
     "execution_count": 51,
     "metadata": {},
     "output_type": "execute_result"
    }
   ],
   "source": [
    "Precision = True_positive/(True_positive + False_positive)\n",
    "Precision\n"
   ]
  },
  {
   "cell_type": "code",
   "execution_count": 52,
   "id": "513c0b48",
   "metadata": {},
   "outputs": [
    {
     "data": {
      "text/plain": [
       "0.9827856025039122"
      ]
     },
     "execution_count": 52,
     "metadata": {},
     "output_type": "execute_result"
    }
   ],
   "source": [
    "# harmonic mean of the precision and recall\n",
    "F1_score = (Precision * recall / (Precision + recall)) * 2\n",
    "F1_score\n"
   ]
  },
  {
   "cell_type": "code",
   "execution_count": 53,
   "id": "0332a977",
   "metadata": {},
   "outputs": [
    {
     "data": {
      "text/plain": [
       "array([139, 942], dtype=int32)"
      ]
     },
     "execution_count": 53,
     "metadata": {},
     "output_type": "execute_result"
    }
   ],
   "source": [
    "np.diag(Confusion_matrix) # diagnol element for the confusion matrix"
   ]
  },
  {
   "cell_type": "code",
   "execution_count": 54,
   "id": "c0024955",
   "metadata": {},
   "outputs": [
    {
     "data": {
      "text/plain": [
       "1114"
      ]
     },
     "execution_count": 54,
     "metadata": {},
     "output_type": "execute_result"
    }
   ],
   "source": [
    "Confusion_matrix.sum().sum() # total sum of testing sms"
   ]
  },
  {
   "cell_type": "code",
   "execution_count": 55,
   "id": "ec6c72c2",
   "metadata": {},
   "outputs": [
    {
     "data": {
      "text/plain": [
       "0.9703770197486535"
      ]
     },
     "execution_count": 55,
     "metadata": {},
     "output_type": "execute_result"
    }
   ],
   "source": [
    "accuracy = np.diag(Confusion_matrix).sum()/Confusion_matrix.sum().sum()\n",
    "accuracy\n",
    "# overoll accuracy from confusion matrix"
   ]
  },
  {
   "cell_type": "code",
   "execution_count": 56,
   "id": "d4a42edf",
   "metadata": {},
   "outputs": [],
   "source": [
    "# predict spam or ham for following sms:\n",
    "spam_msg = \"This is the 2nd time we have tried 2 contact u \"\n",
    "ham_msg = \"Will ü b going to esplanade fr home?\"\n"
   ]
  },
  {
   "cell_type": "code",
   "execution_count": 57,
   "id": "a61e830c",
   "metadata": {},
   "outputs": [
    {
     "name": "stdout",
     "output_type": "stream",
     "text": [
      "message: \" This is the 2nd time we have tried 2 contact u  \" is :  ham\n"
     ]
    }
   ],
   "source": [
    "\n",
    "# predict if spam message is predicted to be spam\n",
    "pre_processd_sms = data_preprocessing(spam_msg)\n",
    "prediction = predict(pre_processd_sms)\n",
    "print(\"message: \\\"\", spam_msg, \"\\\" is : \", prediction)\n"
   ]
  },
  {
   "cell_type": "code",
   "execution_count": 58,
   "id": "9c73109a",
   "metadata": {},
   "outputs": [
    {
     "name": "stdout",
     "output_type": "stream",
     "text": [
      "message: \" Will ü b going to esplanade fr home? \" is :  ham\n"
     ]
    }
   ],
   "source": [
    "# predict if ham message is predicted to be ham\n",
    "pre_processd_sms = data_preprocessing(ham_msg)\n",
    "prediction = predict(pre_processd_sms)\n",
    "print(\"message: \\\"\", ham_msg, \"\\\" is : \", prediction)\n"
   ]
  },
  {
   "cell_type": "code",
   "execution_count": 59,
   "id": "c2b6390f",
   "metadata": {},
   "outputs": [
    {
     "data": {
      "text/plain": [
       "'αwill γ b going to esplanade fr home?β'"
      ]
     },
     "execution_count": 59,
     "metadata": {},
     "output_type": "execute_result"
    }
   ],
   "source": [
    "\n"
   ]
  },
  {
   "cell_type": "code",
   "execution_count": null,
   "id": "18df5b31",
   "metadata": {},
   "outputs": [],
   "source": []
  }
 ],
 "metadata": {
  "kernelspec": {
   "display_name": "Python 3 (ipykernel)",
   "language": "python",
   "name": "python3"
  },
  "language_info": {
   "codemirror_mode": {
    "name": "ipython",
    "version": 3
   },
   "file_extension": ".py",
   "mimetype": "text/x-python",
   "name": "python",
   "nbconvert_exporter": "python",
   "pygments_lexer": "ipython3",
   "version": "3.9.13"
  }
 },
 "nbformat": 4,
 "nbformat_minor": 5
}
